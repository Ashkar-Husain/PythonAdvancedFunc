{
 "cells": [
  {
   "cell_type": "code",
   "execution_count": 3,
   "id": "5ac49d6c-0379-4d18-95f7-179271a0d7db",
   "metadata": {
    "tags": []
   },
   "outputs": [
    {
     "name": "stdout",
     "output_type": "stream",
     "text": [
      "[4, 6, 6]\n"
     ]
    }
   ],
   "source": [
    "\n",
    "\n",
    "x=['sonu','sachin','ashkar']\n",
    "#print(len(x))\n",
    "y=[]\n",
    "for i in x:\n",
    "    y.append(len(i))\n",
    "print(y)"
   ]
  },
  {
   "cell_type": "code",
   "execution_count": 5,
   "id": "23693be4-51f6-4883-91fc-70ea882a0a32",
   "metadata": {
    "tags": []
   },
   "outputs": [
    {
     "name": "stdout",
     "output_type": "stream",
     "text": [
      "<map object at 0x0000014E7EDC7DC0>\n",
      "[4, 6, 6]\n"
     ]
    }
   ],
   "source": [
    "#map()\n",
    "x=['sonu','sachin','aditya']\n",
    "m=map(len,x)\n",
    "print(m)\n",
    "y=list(m)\n",
    "print(y)"
   ]
  },
  {
   "cell_type": "code",
   "execution_count": 6,
   "id": "130c61db-d8ba-428f-9aae-eeab051fb951",
   "metadata": {
    "tags": []
   },
   "outputs": [
    {
     "name": "stdout",
     "output_type": "stream",
     "text": [
      "[4, 6, 6]\n"
     ]
    }
   ],
   "source": [
    "x=['sonu','sachin','aditya']\n",
    "y=list(map(len,x))\n",
    "print(y)"
   ]
  },
  {
   "cell_type": "code",
   "execution_count": 7,
   "id": "5ec070c6-7622-4ebc-b902-32a12a7570c6",
   "metadata": {
    "tags": []
   },
   "outputs": [
    {
     "name": "stdout",
     "output_type": "stream",
     "text": [
      "(4, 6, 6)\n"
     ]
    }
   ],
   "source": [
    "x=['sonu','sachin','aditya']\n",
    "y=tuple(map(len,x))\n",
    "print(y)"
   ]
  },
  {
   "cell_type": "code",
   "execution_count": 8,
   "id": "eb82dbe0-cbc4-4865-ab5f-e5a14cf1e0ba",
   "metadata": {
    "tags": []
   },
   "outputs": [
    {
     "name": "stdout",
     "output_type": "stream",
     "text": [
      "{4, 6}\n"
     ]
    }
   ],
   "source": [
    "x=['sonu','sachin','aditya']\n",
    "y=set(map(len,x))\n",
    "print(y)"
   ]
  },
  {
   "cell_type": "code",
   "execution_count": 12,
   "id": "aabac8d7-9889-4297-ba6e-51f983b6235c",
   "metadata": {
    "tags": []
   },
   "outputs": [
    {
     "name": "stdout",
     "output_type": "stream",
     "text": [
      "{4, 6}\n"
     ]
    }
   ],
   "source": [
    "x=['sonu','sachin','aditya']\n",
    "y=set(map(len,x))\n",
    "print(y)"
   ]
  },
  {
   "cell_type": "code",
   "execution_count": 15,
   "id": "9f421492-ad23-487a-825d-52fbf4268943",
   "metadata": {
    "tags": []
   },
   "outputs": [
    {
     "ename": "TypeError",
     "evalue": "object of type 'int' has no len()",
     "output_type": "error",
     "traceback": [
      "\u001b[1;31m-------------------------------------------------------------------------\u001b[0m",
      "\u001b[1;31mTypeError\u001b[0m                               Traceback (most recent call last)",
      "Cell \u001b[1;32mIn[15], line 2\u001b[0m\n\u001b[0;32m      1\u001b[0m x\u001b[38;5;241m=\u001b[39m[\u001b[38;5;124m'\u001b[39m\u001b[38;5;124msonu\u001b[39m\u001b[38;5;124m'\u001b[39m,\u001b[38;5;124m'\u001b[39m\u001b[38;5;124msachin\u001b[39m\u001b[38;5;124m'\u001b[39m,\u001b[38;5;124m'\u001b[39m\u001b[38;5;124maditya\u001b[39m\u001b[38;5;124m'\u001b[39m,\u001b[38;5;241m123\u001b[39m]\n\u001b[1;32m----> 2\u001b[0m y\u001b[38;5;241m=\u001b[39m\u001b[38;5;28mlist\u001b[39m(\u001b[38;5;28mmap\u001b[39m(\u001b[38;5;28mlen\u001b[39m,x))\n\u001b[0;32m      3\u001b[0m \u001b[38;5;28mprint\u001b[39m(y)\n",
      "\u001b[1;31mTypeError\u001b[0m: object of type 'int' has no len()"
     ]
    }
   ],
   "source": [
    "x=['sonu','sachin','aditya',123]\n",
    "y=list(map(len,x))\n",
    "print(y)"
   ]
  },
  {
   "cell_type": "code",
   "execution_count": 17,
   "id": "eb13f23b-c661-490a-b2f4-694d6b3287ea",
   "metadata": {
    "tags": []
   },
   "outputs": [
    {
     "name": "stdout",
     "output_type": "stream",
     "text": [
      "H\n",
      "I\n"
     ]
    }
   ],
   "source": [
    "def first(s):\n",
    "    return s[0].upper()\n",
    "\n",
    "print(first(\"hello\"))\n",
    "print(first(\"india\"))\n"
   ]
  },
  {
   "cell_type": "code",
   "execution_count": 20,
   "id": "434282dc-e152-47e5-9203-58ddbd095254",
   "metadata": {
    "tags": []
   },
   "outputs": [
    {
     "name": "stdout",
     "output_type": "stream",
     "text": [
      "['S', 'S', 'A']\n",
      "['SONU', 'SACHIN', 'ADITYA']\n"
     ]
    }
   ],
   "source": [
    "x=['sonu','sachin','aditya']\n",
    "print(list(map(first,x)))\n",
    "print(list(map(str.upper,x)))"
   ]
  },
  {
   "cell_type": "code",
   "execution_count": 21,
   "id": "b585b738-4b82-44aa-97de-914a9d7e887f",
   "metadata": {
    "tags": []
   },
   "outputs": [
    {
     "ename": "NameError",
     "evalue": "name 'sqrt' is not defined",
     "output_type": "error",
     "traceback": [
      "\u001b[1;31m-------------------------------------------------------------------------\u001b[0m",
      "\u001b[1;31mNameError\u001b[0m                               Traceback (most recent call last)",
      "Cell \u001b[1;32mIn[21], line 2\u001b[0m\n\u001b[0;32m      1\u001b[0m x\u001b[38;5;241m=\u001b[39m[\u001b[38;5;241m16\u001b[39m,\u001b[38;5;241m9\u001b[39m,\u001b[38;5;241m25\u001b[39m]\n\u001b[1;32m----> 2\u001b[0m \u001b[38;5;28mprint\u001b[39m(\u001b[38;5;28mlist\u001b[39m(\u001b[38;5;28mmap\u001b[39m(sqrt,x)))\n",
      "\u001b[1;31mNameError\u001b[0m: name 'sqrt' is not defined"
     ]
    }
   ],
   "source": [
    "x=[16,9,25]\n",
    "print(list(map(sqrt,x)))"
   ]
  },
  {
   "cell_type": "code",
   "execution_count": 22,
   "id": "29b024cc-7198-4809-9eb8-72f0bba8bb68",
   "metadata": {
    "tags": []
   },
   "outputs": [
    {
     "name": "stdout",
     "output_type": "stream",
     "text": [
      "[4.0, 3.0, 5.0]\n"
     ]
    }
   ],
   "source": [
    "import math\n",
    "print(list(map(math.sqrt,x)))"
   ]
  },
  {
   "cell_type": "code",
   "execution_count": 25,
   "id": "cd0bf7be-2a31-4106-8f20-fe89b0cf866c",
   "metadata": {
    "tags": []
   },
   "outputs": [
    {
     "ename": "TypeError",
     "evalue": "mul() missing 1 required positional argument: 'b'",
     "output_type": "error",
     "traceback": [
      "\u001b[1;31m-------------------------------------------------------------------------\u001b[0m",
      "\u001b[1;31mTypeError\u001b[0m                               Traceback (most recent call last)",
      "Cell \u001b[1;32mIn[25], line 6\u001b[0m\n\u001b[0;32m      2\u001b[0m     \u001b[38;5;28;01mreturn\u001b[39;00m \u001b[38;5;241m1\u001b[39m\n\u001b[0;32m      4\u001b[0m x\u001b[38;5;241m=\u001b[39m[\u001b[38;5;241m1\u001b[39m,\u001b[38;5;241m2\u001b[39m,\u001b[38;5;241m3\u001b[39m,\u001b[38;5;241m4\u001b[39m,\u001b[38;5;241m5\u001b[39m]\n\u001b[1;32m----> 6\u001b[0m \u001b[38;5;28mprint\u001b[39m(\u001b[38;5;28mlist\u001b[39m(\u001b[38;5;28mmap\u001b[39m(mul,x)))\n",
      "\u001b[1;31mTypeError\u001b[0m: mul() missing 1 required positional argument: 'b'"
     ]
    }
   ],
   "source": [
    "def mul(a,b):\n",
    "    return 1\n",
    "\n",
    "x=[1,2,3,4,5]\n",
    "\n",
    "print(list(map(mul,x)))"
   ]
  },
  {
   "cell_type": "code",
   "execution_count": 26,
   "id": "6350fb7e-bc70-44d9-998b-0c6c5acc6f30",
   "metadata": {
    "tags": []
   },
   "outputs": [
    {
     "name": "stdout",
     "output_type": "stream",
     "text": [
      "[2, 2, 15, 24, 25]\n"
     ]
    }
   ],
   "source": [
    "def mul(a,b):\n",
    "    return a*b\n",
    "\n",
    "x=[1,2,3,4,5]\n",
    "y=[2,1,5,6,5]\n",
    "\n",
    "print(list(map(mul,x,y)))"
   ]
  },
  {
   "cell_type": "code",
   "execution_count": 29,
   "id": "03324474-d83a-4e1e-9304-10015e9d2472",
   "metadata": {
    "tags": []
   },
   "outputs": [
    {
     "name": "stdout",
     "output_type": "stream",
     "text": [
      "this is mul 1 2\n",
      "this is mul 2 1\n",
      "this is mul 3 5\n",
      "this is mul 4 5\n",
      "[2, 2, 15, 20]\n"
     ]
    }
   ],
   "source": [
    "def mul(a,b):\n",
    "    print('this is mul',a,b)\n",
    "    return a*b\n",
    "\n",
    "x=[1,2,3,4,5]\n",
    "y=[2,1,5,5]\n",
    "\n",
    "print(list(map(mul,x,y)))"
   ]
  },
  {
   "cell_type": "code",
   "execution_count": 31,
   "id": "23a58d18-eed3-4f91-90f2-9c5bff12d9fa",
   "metadata": {
    "tags": []
   },
   "outputs": [
    {
     "name": "stdout",
     "output_type": "stream",
     "text": [
      "[2, 4, 6, 8, 10]\n",
      "[False, True, False, True, False, True, False, True, False, True]\n"
     ]
    }
   ],
   "source": [
    "#filter()\n",
    "x=[1,2,3,4,5,6,7,8,9,10]\n",
    "\n",
    "def check(num):\n",
    "    if(num%2==0):\n",
    "        return True\n",
    "    else:\n",
    "        return False\n",
    "    \n",
    "print(list(filter(check,x)))\n",
    "print(list(map(check,x)))\n"
   ]
  },
  {
   "cell_type": "code",
   "execution_count": 32,
   "id": "24beee3a-927c-4d65-8e6b-e743023cfe12",
   "metadata": {
    "tags": []
   },
   "outputs": [
    {
     "name": "stdout",
     "output_type": "stream",
     "text": [
      "[1, 3, 5, 7, 9]\n"
     ]
    }
   ],
   "source": [
    "#filter()\n",
    "x=[1,2,3,4,5,6,7,8,9,10]\n",
    "\n",
    "def check(num):\n",
    "    if(num%2==0):\n",
    "        return False\n",
    "    else:\n",
    "        return True\n",
    "    \n",
    "print(list(filter(check,x)))"
   ]
  },
  {
   "cell_type": "code",
   "execution_count": 33,
   "id": "fa18dd90-e3aa-451b-b6f7-1b5937bada66",
   "metadata": {
    "tags": []
   },
   "outputs": [
    {
     "name": "stdout",
     "output_type": "stream",
     "text": [
      "[1, 2, 3, 4, 5, 6, 7, 8, 9, 10]\n"
     ]
    }
   ],
   "source": [
    "#filter()\n",
    "x=[1,2,3,4,5,6,7,8,9,10]\n",
    "\n",
    "def check(num):\n",
    "    if(num%2==0):\n",
    "        return True\n",
    "    else:\n",
    "        return True\n",
    "    \n",
    "print(list(filter(check,x)))\n"
   ]
  },
  {
   "cell_type": "code",
   "execution_count": 34,
   "id": "fd2c7465-ed4e-465d-b7e2-055fe14dcf45",
   "metadata": {
    "tags": []
   },
   "outputs": [
    {
     "name": "stdout",
     "output_type": "stream",
     "text": [
      "[]\n"
     ]
    }
   ],
   "source": [
    "#filter()\n",
    "x=[1,2,3,4,5,6,7,8,9,10]\n",
    "\n",
    "def check(num):\n",
    "    if(num%2==0):\n",
    "        return False\n",
    "    else:\n",
    "        return False\n",
    "    \n",
    "print(list(filter(check,x)))"
   ]
  },
  {
   "cell_type": "code",
   "execution_count": 35,
   "id": "4b97fd4b-d9d7-4027-a476-fefe2c816817",
   "metadata": {
    "tags": []
   },
   "outputs": [
    {
     "name": "stdout",
     "output_type": "stream",
     "text": [
      "[1, 2, 3, 4, 5, 6, 7, 8, 9, 10]\n"
     ]
    }
   ],
   "source": [
    "#filter()\n",
    "x=[1,2,3,4,5,6,7,8,9,10]\n",
    "\n",
    "def check(num):\n",
    "    if(num%2==0):\n",
    "        return 2023\n",
    "    else:\n",
    "        return \"13 august\"\n",
    "    \n",
    "#0/0.0/None/\"\"------------->False\n",
    "#other values-------------->True\n",
    "print(list(filter(check,x)))"
   ]
  },
  {
   "cell_type": "code",
   "execution_count": 36,
   "id": "92fba6a2-3621-4ad7-90e2-f9bafbb5655d",
   "metadata": {
    "tags": []
   },
   "outputs": [
    {
     "name": "stdout",
     "output_type": "stream",
     "text": [
      "[2, 4, 6, 8, 10]\n"
     ]
    }
   ],
   "source": [
    "#filter()\n",
    "x=[1,2,3,4,5,6,7,8,9,10]\n",
    "\n",
    "def check(num):\n",
    "    if(num%2==0):\n",
    "        return 1\n",
    "    else:\n",
    "        return 0\n",
    "    \n",
    "print(list(filter(check,x)))"
   ]
  },
  {
   "cell_type": "code",
   "execution_count": 39,
   "id": "aab887ac-57da-47c2-b122-6f40ec6a5b50",
   "metadata": {
    "tags": []
   },
   "outputs": [
    {
     "name": "stdout",
     "output_type": "stream",
     "text": [
      "1\n",
      "2\n",
      "3\n",
      "4\n",
      "5\n",
      "6\n",
      "7\n",
      "8\n",
      "9\n",
      "10\n",
      "[1, 2, 3, 4, 5, 6, 7, 8, 9, 10]\n"
     ]
    }
   ],
   "source": [
    "for i in x:\n",
    "    print(i)\n",
    "print(x)"
   ]
  },
  {
   "cell_type": "code",
   "execution_count": null,
   "id": "37b2ba21-d531-4c5b-b9e5-f66f7ebf2cbc",
   "metadata": {},
   "outputs": [],
   "source": [
    "#lambda fun\n",
    "#syntax:\n",
    "lambda params:expression\n"
   ]
  },
  {
   "cell_type": "code",
   "execution_count": 43,
   "id": "fb42b214-0e0f-434e-91b6-b4b0104f4041",
   "metadata": {
    "tags": []
   },
   "outputs": [
    {
     "name": "stdout",
     "output_type": "stream",
     "text": [
      "[1, 4, 9, 16, 25]\n",
      "[1, 4, 9, 16, 25]\n",
      "[1, 8, 27, 64, 125]\n"
     ]
    }
   ],
   "source": [
    "x=[1,2,3,4,5]\n",
    "\n",
    "def sqr(num):\n",
    "    return num**2\n",
    "\n",
    "print(list(map(sqr,x)))\n",
    "print(list(map(lambda num:num**2,x)))\n",
    "print(list(map(lambda num:num**3,x)))\n"
   ]
  },
  {
   "cell_type": "code",
   "execution_count": 41,
   "id": "0fc13f3e-7fff-4c94-ae64-3df62c607280",
   "metadata": {
    "tags": []
   },
   "outputs": [
    {
     "name": "stdout",
     "output_type": "stream",
     "text": [
      "2500\n"
     ]
    }
   ],
   "source": [
    "print(sqr(50))"
   ]
  },
  {
   "cell_type": "code",
   "execution_count": 44,
   "id": "2913fa24-1c55-4410-a801-bb93a5f0d673",
   "metadata": {
    "tags": []
   },
   "outputs": [
    {
     "name": "stdout",
     "output_type": "stream",
     "text": [
      "[1, 8, 243, 16, 625]\n"
     ]
    }
   ],
   "source": [
    "x=[1,2,3,4,5]\n",
    "y=[2,3,5,2,4]\n",
    "\n",
    "print(list(map(lambda a,b:a**b,x,y)))"
   ]
  },
  {
   "cell_type": "code",
   "execution_count": null,
   "id": "301fe480-d404-416a-97af-24247e5d97b6",
   "metadata": {},
   "outputs": [],
   "source": [
    "def fun():\n",
    "    ..\n",
    "    ..\n",
    "    ...\n",
    "    return val\n",
    "\n",
    "lambda p:fun()"
   ]
  },
  {
   "cell_type": "markdown",
   "id": "4caa30fc-306c-401f-afa9-775a9b390403",
   "metadata": {},
   "source": [
    "# Object Oriented Programming Structure(OOPS)\n",
    "- It is a programming technique that enables automation of real world entities easily.\n",
    "\n",
    "- There are following rules in OOPS:\n",
    "    - Object\n",
    "    - Class\n",
    "    - Inheritance\n",
    "    - Encapsulation\n",
    "    - Polymorphism\n",
    "    - Abstrction\n",
    "    - etc.\n",
    "    \n",
    "- there are following languages that provide implementation(syntax) of oops concepts:\n",
    "    - Simula\n",
    "    - Smalltalk\n",
    "    - C++\n",
    "    - Python\n",
    "    - Java\n",
    "    - C#\n",
    "    - Kotlin\n",
    "    - etc."
   ]
  },
  {
   "cell_type": "markdown",
   "id": "c7153003-bcb3-4a1c-b167-c4aba48d8f1b",
   "metadata": {},
   "source": [
    "# Object\n",
    "- any real world entity (physical/logical) having propeties(data) and behaviours(operations) .\n",
    "\n",
    "- it is an instance of a class.\n",
    "\n",
    "# Class\n",
    "- it is a blueprint/design/template to create similar instances.\n",
    "- a class represents data type."
   ]
  },
  {
   "cell_type": "code",
   "execution_count": 45,
   "id": "aac30ec4-1e10-4143-ac19-97fe97815e70",
   "metadata": {
    "tags": []
   },
   "outputs": [
    {
     "name": "stdout",
     "output_type": "stream",
     "text": [
      "<class 'int'>\n"
     ]
    }
   ],
   "source": [
    "x=10\n",
    "print(type(x))"
   ]
  },
  {
   "cell_type": "code",
   "execution_count": 46,
   "id": "cb9b4fa0-3b22-48ef-85e3-eebc6bdfd8e4",
   "metadata": {
    "tags": []
   },
   "outputs": [
    {
     "name": "stdout",
     "output_type": "stream",
     "text": [
      "<class 'list'>\n"
     ]
    }
   ],
   "source": [
    "x=[]\n",
    "print(type(x))"
   ]
  },
  {
   "cell_type": "code",
   "execution_count": null,
   "id": "e47df0be-2cfd-4d0b-bed5-f1d769292b77",
   "metadata": {},
   "outputs": [],
   "source": []
  }
 ],
 "metadata": {
  "kernelspec": {
   "display_name": "Python 3 (ipykernel)",
   "language": "python",
   "name": "python3"
  },
  "language_info": {
   "codemirror_mode": {
    "name": "ipython",
    "version": 3
   },
   "file_extension": ".py",
   "mimetype": "text/x-python",
   "name": "python",
   "nbconvert_exporter": "python",
   "pygments_lexer": "ipython3",
   "version": "3.11.3"
  }
 },
 "nbformat": 4,
 "nbformat_minor": 5
}
